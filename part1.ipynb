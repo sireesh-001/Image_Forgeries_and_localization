{
 "cells": [
  {
   "cell_type": "code",
   "execution_count": 2,
   "source": [
    "import pandas as pd\r\n",
    "import numpy as np\r\n",
    "import matplotlib.pyplot as plt\r\n",
    "from matplotlib import gridspec\r\n",
    "import os \r\n",
    "import cv2\r\n",
    "from tqdm import tqdm_notebook as tqdm \r\n",
    "import seaborn as sns\r\n",
    "import joblib \r\n",
    "import warnings\r\n",
    "import math\r\n",
    "import pickle as pk\r\n",
    "import datetime\r\n",
    "import albumentations\r\n",
    "from sklearn.model_selection import train_test_split\r\n",
    "from sklearn.utils import shuffle\r\n",
    "from imageio import imread\r\n",
    "import imageio\r\n",
    "import tensorflow as tf\r\n",
    "import tensorflow.keras as keras\r\n",
    "from tensorflow.keras import layers,Model,Sequential\r\n",
    "from tensorflow.keras.layers import Dropout,Activation,InputLayer,LSTM,GRU,Bidirectional,TimeDistributed,Flatten,Dense,BatchNormalization,MaxPooling2D,Conv2D,Input,Concatenate,LeakyReLU\r\n",
    "warnings.filterwarnings('ignore')\r\n",
    "from tensorflow.keras.layers import Conv2D, Conv2DTranspose\r\n",
    "from tensorflow.keras.callbacks import TensorBoard\r\n",
    "from tensorflow.keras.callbacks import ModelCheckpoint\r\n",
    "from tensorflow.keras.preprocessing.image import ImageDataGenerator, array_to_img, img_to_array, load_img\r\n",
    "from tensorflow.keras.layers import concatenate, add\r\n",
    "from tensorflow.keras.models import load_model\r\n",
    "from tensorflow.keras.utils import to_categorical"
   ],
   "outputs": [],
   "metadata": {}
  },
  {
   "cell_type": "code",
   "execution_count": 3,
   "source": [
    "PATH = 'D:/collage/Sem 4/Intership/dataset-dist/phase-01/training/'\r\n",
    "\r\n",
    "DATASET_PATHS = {\r\n",
    "    'fake': 'fake'\r\n",
    "}"
   ],
   "outputs": [],
   "metadata": {}
  },
  {
   "cell_type": "code",
   "execution_count": 4,
   "source": [
    "os.listdir(PATH+DATASET_PATHS['fake'])[:10]"
   ],
   "outputs": [
    {
     "output_type": "error",
     "ename": "FileNotFoundError",
     "evalue": "[WinError 3] The system cannot find the path specified: 'D:/collage/Sem 4/Intership/dataset-dist/phase-01/trainingfake'",
     "traceback": [
      "\u001b[1;31m---------------------------------------------------------------------------\u001b[0m",
      "\u001b[1;31mFileNotFoundError\u001b[0m                         Traceback (most recent call last)",
      "\u001b[1;32m<ipython-input-4-4b719f4f1250>\u001b[0m in \u001b[0;36m<module>\u001b[1;34m\u001b[0m\n\u001b[1;32m----> 1\u001b[1;33m \u001b[0mos\u001b[0m\u001b[1;33m.\u001b[0m\u001b[0mlistdir\u001b[0m\u001b[1;33m(\u001b[0m\u001b[0mPATH\u001b[0m\u001b[1;33m+\u001b[0m\u001b[0mDATASET_PATHS\u001b[0m\u001b[1;33m[\u001b[0m\u001b[1;34m'fake'\u001b[0m\u001b[1;33m]\u001b[0m\u001b[1;33m)\u001b[0m\u001b[1;33m[\u001b[0m\u001b[1;33m:\u001b[0m\u001b[1;36m10\u001b[0m\u001b[1;33m]\u001b[0m\u001b[1;33m\u001b[0m\u001b[1;33m\u001b[0m\u001b[0m\n\u001b[0m",
      "\u001b[1;31mFileNotFoundError\u001b[0m: [WinError 3] The system cannot find the path specified: 'D:/collage/Sem 4/Intership/dataset-dist/phase-01/trainingfake'"
     ]
    }
   ],
   "metadata": {}
  }
 ],
 "metadata": {
  "orig_nbformat": 4,
  "language_info": {
   "name": "python",
   "version": "3.7.10",
   "mimetype": "text/x-python",
   "codemirror_mode": {
    "name": "ipython",
    "version": 3
   },
   "pygments_lexer": "ipython3",
   "nbconvert_exporter": "python",
   "file_extension": ".py"
  },
  "kernelspec": {
   "name": "python3",
   "display_name": "Python 3.7.10 64-bit ('deeplearning': conda)"
  },
  "interpreter": {
   "hash": "5216782522990c54483f428ef3c4575608d1906616d38da638721435f21178e6"
  }
 },
 "nbformat": 4,
 "nbformat_minor": 2
}